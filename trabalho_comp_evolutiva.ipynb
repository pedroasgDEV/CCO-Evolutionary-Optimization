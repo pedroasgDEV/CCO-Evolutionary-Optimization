{
  "nbformat": 4,
  "nbformat_minor": 0,
  "metadata": {
    "colab": {
      "provenance": [],
      "authorship_tag": "ABX9TyMnW+010ymvgkS/qVxYZeon",
      "include_colab_link": true
    },
    "kernelspec": {
      "name": "python3",
      "display_name": "Python 3"
    },
    "language_info": {
      "name": "python"
    }
  },
  "cells": [
    {
      "cell_type": "markdown",
      "metadata": {
        "id": "view-in-github",
        "colab_type": "text"
      },
      "source": [
        "<a href=\"https://colab.research.google.com/github/pedroasgDEV/CCO-Evolutionary-Optimization/blob/master/trabalho_comp_evolutiva.ipynb\" target=\"_parent\"><img src=\"https://colab.research.google.com/assets/colab-badge.svg\" alt=\"Open In Colab\"/></a>"
      ]
    },
    {
      "cell_type": "markdown",
      "source": [
        "# Uso de Computação Evolutiva para a Otimização Geométrica do Método CCO\n"
      ],
      "metadata": {
        "id": "k5o7szk5KTCg"
      }
    },
    {
      "cell_type": "markdown",
      "source": [
        "Para esse trabalho, será considerado uma árvore com uma unica bifurcação e com o ponto de perfuzão e o terminal fixo"
      ],
      "metadata": {
        "id": "gX7jVgVnLJRp"
      }
    },
    {
      "cell_type": "code",
      "execution_count": null,
      "metadata": {
        "colab": {
          "base_uri": "https://localhost:8080/"
        },
        "id": "kOtiys8ZHKR7",
        "outputId": "395a735a-66fe-4651-d79f-8f70b8fcd023"
      },
      "outputs": [
        {
          "output_type": "stream",
          "name": "stdout",
          "text": [
            "Collecting deap\n",
            "  Downloading deap-1.4.2-cp311-cp311-manylinux_2_5_x86_64.manylinux1_x86_64.manylinux_2_17_x86_64.manylinux2014_x86_64.whl.metadata (13 kB)\n",
            "Requirement already satisfied: numpy in /usr/local/lib/python3.11/dist-packages (from deap) (2.0.2)\n",
            "Downloading deap-1.4.2-cp311-cp311-manylinux_2_5_x86_64.manylinux1_x86_64.manylinux_2_17_x86_64.manylinux2014_x86_64.whl (135 kB)\n",
            "\u001b[2K   \u001b[90m━━━━━━━━━━━━━━━━━━━━━━━━━━━━━━━━━━━━━━━━\u001b[0m \u001b[32m135.4/135.4 kB\u001b[0m \u001b[31m2.4 MB/s\u001b[0m eta \u001b[36m0:00:00\u001b[0m\n",
            "\u001b[?25hInstalling collected packages: deap\n",
            "Successfully installed deap-1.4.2\n"
          ]
        }
      ],
      "source": [
        "!pip install deap"
      ]
    },
    {
      "cell_type": "code",
      "source": [
        "import deap\n",
        "import numpy as np\n",
        "import matplotlib.pyplot as plt"
      ],
      "metadata": {
        "id": "qXEfE3VGHYDg"
      },
      "execution_count": null,
      "outputs": []
    },
    {
      "cell_type": "code",
      "source": [
        "# Definição do espaço de busca\n",
        "X_MIN, X_MAX = -100.0, 100.0\n",
        "Y_MIN, Y_MAX = -100.0, 100.0\n",
        "POP_SIZE = 20\n",
        "GENERATIONS = 50\n",
        "MUTATION_RATE = 0.1\n",
        "CXPB = 0.5  # Taxa de crossover"
      ],
      "metadata": {
        "id": "rmFFr3vrI1vM"
      },
      "execution_count": null,
      "outputs": []
    }
  ]
}